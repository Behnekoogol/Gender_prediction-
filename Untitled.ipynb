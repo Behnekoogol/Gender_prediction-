{
 "cells": [
  {
   "cell_type": "code",
   "execution_count": 1,
   "id": "8f72ec02-18b4-415e-bd99-59169a0d6c8e",
   "metadata": {},
   "outputs": [
    {
     "name": "stdout",
     "output_type": "stream",
     "text": [
      "Requirement already satisfied: Faker in /home/behzad/anaconda3/envs/ML/lib/python3.10/site-packages (15.3.4)\n",
      "Requirement already satisfied: python-dateutil>=2.4 in /home/behzad/anaconda3/envs/ML/lib/python3.10/site-packages (from Faker) (2.8.2)\n",
      "Requirement already satisfied: six>=1.5 in /home/behzad/anaconda3/envs/ML/lib/python3.10/site-packages (from python-dateutil>=2.4->Faker) (1.16.0)\n",
      "Requirement already satisfied: names-dataset in /home/behzad/anaconda3/envs/ML/lib/python3.10/site-packages (3.1.0)\n",
      "Requirement already satisfied: pycountry in /home/behzad/anaconda3/envs/ML/lib/python3.10/site-packages (from names-dataset) (22.3.5)\n",
      "Requirement already satisfied: setuptools in /home/behzad/anaconda3/envs/ML/lib/python3.10/site-packages (from pycountry->names-dataset) (65.5.0)\n"
     ]
    }
   ],
   "source": [
    "!pip install Faker \n",
    "!pip install names-dataset"
   ]
  },
  {
   "cell_type": "code",
   "execution_count": 2,
   "id": "20cedade-4746-4672-845f-77dc1e2b9706",
   "metadata": {},
   "outputs": [],
   "source": [
    "from faker import Faker"
   ]
  },
  {
   "cell_type": "code",
   "execution_count": 37,
   "id": "4c0418fe-56c9-4c57-8e05-dc01cba26608",
   "metadata": {},
   "outputs": [],
   "source": [
    "en_fake = Faker()\n",
    "fa_fake = Faker('fa')"
   ]
  },
  {
   "cell_type": "code",
   "execution_count": 39,
   "id": "d839bd51-715b-4acb-837b-1aae03fcb8a8",
   "metadata": {},
   "outputs": [],
   "source": [
    "from names_dataset import NameDataset\n",
    "nd = NameDataset()"
   ]
  },
  {
   "cell_type": "code",
   "execution_count": 46,
   "id": "5807ce0f-1a1d-4a50-885d-6b65ebc82f47",
   "metadata": {},
   "outputs": [
    {
     "data": {
      "text/plain": [
       "{'Female': 0.022, 'Male': 0.978}"
      ]
     },
     "execution_count": 46,
     "metadata": {},
     "output_type": "execute_result"
    }
   ],
   "source": [
    "nd.search('behzad')['first_name']['gender']"
   ]
  },
  {
   "cell_type": "markdown",
   "id": "fa9a65ce-5aa6-4b34-8046-8b0aa06bfb7e",
   "metadata": {},
   "source": [
    "# let's Generate some Fake Data!!"
   ]
  },
  {
   "cell_type": "code",
   "execution_count": 47,
   "id": "b6dc2b65-a5ab-43ea-9273-5d849b1cc941",
   "metadata": {},
   "outputs": [],
   "source": [
    "import numpy as np \n",
    "import pandas as pd "
   ]
  },
  {
   "cell_type": "code",
   "execution_count": 105,
   "id": "e4681e96-bab2-4a02-8d92-f4dfaa5726d9",
   "metadata": {},
   "outputs": [],
   "source": [
    "def make_name():\n",
    "    ''' \n",
    "    This function generate an Iranian name in 50% of the times and\n",
    "    an English name in the other 50% of the times.\n",
    "    '''\n",
    "    if np.random.rand() > .5:\n",
    "        return en_fake.name()\n",
    "    return fa_fake.name()"
   ]
  },
  {
   "cell_type": "code",
   "execution_count": 106,
   "id": "1a4681e7-98c1-46f8-811c-9da6ce309eb4",
   "metadata": {},
   "outputs": [],
   "source": [
    "name = [make_name() for _ in range(100)]"
   ]
  },
  {
   "cell_type": "code",
   "execution_count": 107,
   "id": "64e36db6-0965-43bf-8644-1d418fb6e3b4",
   "metadata": {},
   "outputs": [],
   "source": [
    "df = pd.DataFrame({\n",
    "    'name' : name\n",
    "})"
   ]
  },
  {
   "cell_type": "code",
   "execution_count": 108,
   "id": "f0589bf4-efd5-4737-b10a-f56df2acf404",
   "metadata": {},
   "outputs": [
    {
     "data": {
      "text/html": [
       "<div>\n",
       "<style scoped>\n",
       "    .dataframe tbody tr th:only-of-type {\n",
       "        vertical-align: middle;\n",
       "    }\n",
       "\n",
       "    .dataframe tbody tr th {\n",
       "        vertical-align: top;\n",
       "    }\n",
       "\n",
       "    .dataframe thead th {\n",
       "        text-align: right;\n",
       "    }\n",
       "</style>\n",
       "<table border=\"1\" class=\"dataframe\">\n",
       "  <thead>\n",
       "    <tr style=\"text-align: right;\">\n",
       "      <th></th>\n",
       "      <th>name</th>\n",
       "    </tr>\n",
       "  </thead>\n",
       "  <tbody>\n",
       "    <tr>\n",
       "      <th>0</th>\n",
       "      <td>زينب تحسینی</td>\n",
       "    </tr>\n",
       "    <tr>\n",
       "      <th>1</th>\n",
       "      <td>Robert Palmer</td>\n",
       "    </tr>\n",
       "    <tr>\n",
       "      <th>2</th>\n",
       "      <td>جناب آقای آرمین تنزیلی</td>\n",
       "    </tr>\n",
       "    <tr>\n",
       "      <th>3</th>\n",
       "      <td>Christopher Jenkins</td>\n",
       "    </tr>\n",
       "    <tr>\n",
       "      <th>4</th>\n",
       "      <td>اميرمحمد اشتری</td>\n",
       "    </tr>\n",
       "    <tr>\n",
       "      <th>...</th>\n",
       "      <td>...</td>\n",
       "    </tr>\n",
       "    <tr>\n",
       "      <th>95</th>\n",
       "      <td>محمدجواد نعمتی</td>\n",
       "    </tr>\n",
       "    <tr>\n",
       "      <th>96</th>\n",
       "      <td>Christopher Moore</td>\n",
       "    </tr>\n",
       "    <tr>\n",
       "      <th>97</th>\n",
       "      <td>Kristina Higgins</td>\n",
       "    </tr>\n",
       "    <tr>\n",
       "      <th>98</th>\n",
       "      <td>سرکار خانم نيايش سماوات</td>\n",
       "    </tr>\n",
       "    <tr>\n",
       "      <th>99</th>\n",
       "      <td>Heather Roberts</td>\n",
       "    </tr>\n",
       "  </tbody>\n",
       "</table>\n",
       "<p>100 rows × 1 columns</p>\n",
       "</div>"
      ],
      "text/plain": [
       "                       name\n",
       "0               زينب تحسینی\n",
       "1             Robert Palmer\n",
       "2    جناب آقای آرمین تنزیلی\n",
       "3       Christopher Jenkins\n",
       "4            اميرمحمد اشتری\n",
       "..                      ...\n",
       "95           محمدجواد نعمتی\n",
       "96        Christopher Moore\n",
       "97         Kristina Higgins\n",
       "98  سرکار خانم نيايش سماوات\n",
       "99          Heather Roberts\n",
       "\n",
       "[100 rows x 1 columns]"
      ]
     },
     "execution_count": 108,
     "metadata": {},
     "output_type": "execute_result"
    }
   ],
   "source": [
    "df"
   ]
  },
  {
   "cell_type": "markdown",
   "id": "a85a2719-562c-4d8d-98c2-08ae036c4788",
   "metadata": {},
   "source": [
    "# extracting first name and last name"
   ]
  },
  {
   "cell_type": "code",
   "execution_count": 117,
   "id": "5d329a08-d8b3-4a56-9b80-fc8c80b8dc83",
   "metadata": {},
   "outputs": [
    {
     "data": {
      "text/plain": [
       "'الينا شاکری'"
      ]
     },
     "execution_count": 117,
     "metadata": {},
     "output_type": "execute_result"
    }
   ],
   "source": [
    "full_name = fa_fake.name()\n",
    "full_name"
   ]
  },
  {
   "cell_type": "code",
   "execution_count": 121,
   "id": "7689f6cd-3e0c-4e96-a261-f71478d5bd4f",
   "metadata": {},
   "outputs": [
    {
     "data": {
      "text/plain": [
       "'الينا'"
      ]
     },
     "execution_count": 121,
     "metadata": {},
     "output_type": "execute_result"
    }
   ],
   "source": [
    "f_name = full_name.split()[0]\n",
    "f_name"
   ]
  },
  {
   "cell_type": "code",
   "execution_count": 124,
   "id": "2dd7f75a-6bea-4f2c-8945-a8e2c9ab52e0",
   "metadata": {},
   "outputs": [],
   "source": [
    "df['first_name'] = df['name'].apply(lambda full_name: full_name.split()[0])\n",
    "df['last_name'] = df['name'].apply(lambda full_name: full_name.split()[-1])"
   ]
  },
  {
   "cell_type": "code",
   "execution_count": 127,
   "id": "bb2df4f3-7983-4ab0-b367-31c4d8ed319d",
   "metadata": {},
   "outputs": [
    {
     "data": {
      "text/html": [
       "<div>\n",
       "<style scoped>\n",
       "    .dataframe tbody tr th:only-of-type {\n",
       "        vertical-align: middle;\n",
       "    }\n",
       "\n",
       "    .dataframe tbody tr th {\n",
       "        vertical-align: top;\n",
       "    }\n",
       "\n",
       "    .dataframe thead th {\n",
       "        text-align: right;\n",
       "    }\n",
       "</style>\n",
       "<table border=\"1\" class=\"dataframe\">\n",
       "  <thead>\n",
       "    <tr style=\"text-align: right;\">\n",
       "      <th></th>\n",
       "      <th>name</th>\n",
       "      <th>last_name</th>\n",
       "      <th>first_name</th>\n",
       "    </tr>\n",
       "  </thead>\n",
       "  <tbody>\n",
       "    <tr>\n",
       "      <th>0</th>\n",
       "      <td>زينب تحسینی</td>\n",
       "      <td>تحسینی</td>\n",
       "      <td>زينب</td>\n",
       "    </tr>\n",
       "    <tr>\n",
       "      <th>1</th>\n",
       "      <td>Robert Palmer</td>\n",
       "      <td>Palmer</td>\n",
       "      <td>Robert</td>\n",
       "    </tr>\n",
       "    <tr>\n",
       "      <th>2</th>\n",
       "      <td>جناب آقای آرمین تنزیلی</td>\n",
       "      <td>تنزیلی</td>\n",
       "      <td>جناب</td>\n",
       "    </tr>\n",
       "    <tr>\n",
       "      <th>3</th>\n",
       "      <td>Christopher Jenkins</td>\n",
       "      <td>Jenkins</td>\n",
       "      <td>Christopher</td>\n",
       "    </tr>\n",
       "    <tr>\n",
       "      <th>4</th>\n",
       "      <td>اميرمحمد اشتری</td>\n",
       "      <td>اشتری</td>\n",
       "      <td>اميرمحمد</td>\n",
       "    </tr>\n",
       "    <tr>\n",
       "      <th>...</th>\n",
       "      <td>...</td>\n",
       "      <td>...</td>\n",
       "      <td>...</td>\n",
       "    </tr>\n",
       "    <tr>\n",
       "      <th>95</th>\n",
       "      <td>محمدجواد نعمتی</td>\n",
       "      <td>نعمتی</td>\n",
       "      <td>محمدجواد</td>\n",
       "    </tr>\n",
       "    <tr>\n",
       "      <th>96</th>\n",
       "      <td>Christopher Moore</td>\n",
       "      <td>Moore</td>\n",
       "      <td>Christopher</td>\n",
       "    </tr>\n",
       "    <tr>\n",
       "      <th>97</th>\n",
       "      <td>Kristina Higgins</td>\n",
       "      <td>Higgins</td>\n",
       "      <td>Kristina</td>\n",
       "    </tr>\n",
       "    <tr>\n",
       "      <th>98</th>\n",
       "      <td>سرکار خانم نيايش سماوات</td>\n",
       "      <td>سماوات</td>\n",
       "      <td>سرکار</td>\n",
       "    </tr>\n",
       "    <tr>\n",
       "      <th>99</th>\n",
       "      <td>Heather Roberts</td>\n",
       "      <td>Roberts</td>\n",
       "      <td>Heather</td>\n",
       "    </tr>\n",
       "  </tbody>\n",
       "</table>\n",
       "<p>100 rows × 3 columns</p>\n",
       "</div>"
      ],
      "text/plain": [
       "                       name last_name   first_name\n",
       "0               زينب تحسینی    تحسینی         زينب\n",
       "1             Robert Palmer    Palmer       Robert\n",
       "2    جناب آقای آرمین تنزیلی    تنزیلی         جناب\n",
       "3       Christopher Jenkins   Jenkins  Christopher\n",
       "4            اميرمحمد اشتری     اشتری     اميرمحمد\n",
       "..                      ...       ...          ...\n",
       "95           محمدجواد نعمتی     نعمتی     محمدجواد\n",
       "96        Christopher Moore     Moore  Christopher\n",
       "97         Kristina Higgins   Higgins     Kristina\n",
       "98  سرکار خانم نيايش سماوات    سماوات        سرکار\n",
       "99          Heather Roberts   Roberts      Heather\n",
       "\n",
       "[100 rows x 3 columns]"
      ]
     },
     "execution_count": 127,
     "metadata": {},
     "output_type": "execute_result"
    }
   ],
   "source": [
    "df"
   ]
  },
  {
   "cell_type": "markdown",
   "id": "760577a4-c51d-49b3-bca3-3d88e1739c87",
   "metadata": {},
   "source": [
    "# Predict Gender"
   ]
  },
  {
   "cell_type": "code",
   "execution_count": 224,
   "id": "b4439f42-0e5f-475f-9b6b-677b2a7aa086",
   "metadata": {},
   "outputs": [],
   "source": [
    "def name_to_gender(first_name):\n",
    "    info = nd.search(first_name)['first_name']\n",
    "    if info is None:\n",
    "        return \n",
    "    return max(info['gender'], key=info['gender'].get)"
   ]
  },
  {
   "cell_type": "code",
   "execution_count": 225,
   "id": "df43865b-8010-4df5-b6be-8fe830fad9bd",
   "metadata": {},
   "outputs": [
    {
     "data": {
      "text/plain": [
       "'Female'"
      ]
     },
     "execution_count": 225,
     "metadata": {},
     "output_type": "execute_result"
    }
   ],
   "source": [
    "name_to_gender('شقایق')"
   ]
  },
  {
   "cell_type": "code",
   "execution_count": 226,
   "id": "0a0af087-a02e-40dc-bb3b-476a48dcd8d0",
   "metadata": {},
   "outputs": [
    {
     "data": {
      "text/plain": [
       "'Male'"
      ]
     },
     "execution_count": 226,
     "metadata": {},
     "output_type": "execute_result"
    }
   ],
   "source": [
    "name_to_gender('behzad')"
   ]
  },
  {
   "cell_type": "code",
   "execution_count": 227,
   "id": "40a8e8af-df25-40e9-9959-b5897642058c",
   "metadata": {},
   "outputs": [],
   "source": [
    "#for unknown names\n",
    "name_to_gender('berpsogmrwpovf')"
   ]
  },
  {
   "cell_type": "markdown",
   "id": "77f5602e-db99-4d52-9f77-95c230502b6b",
   "metadata": {},
   "source": [
    "### let's bring this ability to our DataFrame"
   ]
  },
  {
   "cell_type": "code",
   "execution_count": 228,
   "id": "f38c1422-e3c2-4133-b720-88ceef0de87e",
   "metadata": {},
   "outputs": [],
   "source": [
    "df['gender'] = df['first_name'].apply(lambda fn: name_to_gender(fn))"
   ]
  },
  {
   "cell_type": "code",
   "execution_count": 229,
   "id": "d80879c6-0561-4dd2-a30e-0358a1d516c8",
   "metadata": {},
   "outputs": [
    {
     "data": {
      "text/html": [
       "<div>\n",
       "<style scoped>\n",
       "    .dataframe tbody tr th:only-of-type {\n",
       "        vertical-align: middle;\n",
       "    }\n",
       "\n",
       "    .dataframe tbody tr th {\n",
       "        vertical-align: top;\n",
       "    }\n",
       "\n",
       "    .dataframe thead th {\n",
       "        text-align: right;\n",
       "    }\n",
       "</style>\n",
       "<table border=\"1\" class=\"dataframe\">\n",
       "  <thead>\n",
       "    <tr style=\"text-align: right;\">\n",
       "      <th></th>\n",
       "      <th>name</th>\n",
       "      <th>last_name</th>\n",
       "      <th>first_name</th>\n",
       "      <th>gender</th>\n",
       "    </tr>\n",
       "  </thead>\n",
       "  <tbody>\n",
       "    <tr>\n",
       "      <th>0</th>\n",
       "      <td>زينب تحسینی</td>\n",
       "      <td>تحسینی</td>\n",
       "      <td>زينب</td>\n",
       "      <td>Female</td>\n",
       "    </tr>\n",
       "    <tr>\n",
       "      <th>1</th>\n",
       "      <td>Robert Palmer</td>\n",
       "      <td>Palmer</td>\n",
       "      <td>Robert</td>\n",
       "      <td>Male</td>\n",
       "    </tr>\n",
       "    <tr>\n",
       "      <th>2</th>\n",
       "      <td>جناب آقای آرمین تنزیلی</td>\n",
       "      <td>تنزیلی</td>\n",
       "      <td>جناب</td>\n",
       "      <td>Male</td>\n",
       "    </tr>\n",
       "    <tr>\n",
       "      <th>3</th>\n",
       "      <td>Christopher Jenkins</td>\n",
       "      <td>Jenkins</td>\n",
       "      <td>Christopher</td>\n",
       "      <td>Male</td>\n",
       "    </tr>\n",
       "    <tr>\n",
       "      <th>4</th>\n",
       "      <td>اميرمحمد اشتری</td>\n",
       "      <td>اشتری</td>\n",
       "      <td>اميرمحمد</td>\n",
       "      <td>Male</td>\n",
       "    </tr>\n",
       "    <tr>\n",
       "      <th>...</th>\n",
       "      <td>...</td>\n",
       "      <td>...</td>\n",
       "      <td>...</td>\n",
       "      <td>...</td>\n",
       "    </tr>\n",
       "    <tr>\n",
       "      <th>95</th>\n",
       "      <td>محمدجواد نعمتی</td>\n",
       "      <td>نعمتی</td>\n",
       "      <td>محمدجواد</td>\n",
       "      <td>Male</td>\n",
       "    </tr>\n",
       "    <tr>\n",
       "      <th>96</th>\n",
       "      <td>Christopher Moore</td>\n",
       "      <td>Moore</td>\n",
       "      <td>Christopher</td>\n",
       "      <td>Male</td>\n",
       "    </tr>\n",
       "    <tr>\n",
       "      <th>97</th>\n",
       "      <td>Kristina Higgins</td>\n",
       "      <td>Higgins</td>\n",
       "      <td>Kristina</td>\n",
       "      <td>Female</td>\n",
       "    </tr>\n",
       "    <tr>\n",
       "      <th>98</th>\n",
       "      <td>سرکار خانم نيايش سماوات</td>\n",
       "      <td>سماوات</td>\n",
       "      <td>سرکار</td>\n",
       "      <td>None</td>\n",
       "    </tr>\n",
       "    <tr>\n",
       "      <th>99</th>\n",
       "      <td>Heather Roberts</td>\n",
       "      <td>Roberts</td>\n",
       "      <td>Heather</td>\n",
       "      <td>Female</td>\n",
       "    </tr>\n",
       "  </tbody>\n",
       "</table>\n",
       "<p>100 rows × 4 columns</p>\n",
       "</div>"
      ],
      "text/plain": [
       "                       name last_name   first_name  gender\n",
       "0               زينب تحسینی    تحسینی         زينب  Female\n",
       "1             Robert Palmer    Palmer       Robert    Male\n",
       "2    جناب آقای آرمین تنزیلی    تنزیلی         جناب    Male\n",
       "3       Christopher Jenkins   Jenkins  Christopher    Male\n",
       "4            اميرمحمد اشتری     اشتری     اميرمحمد    Male\n",
       "..                      ...       ...          ...     ...\n",
       "95           محمدجواد نعمتی     نعمتی     محمدجواد    Male\n",
       "96        Christopher Moore     Moore  Christopher    Male\n",
       "97         Kristina Higgins   Higgins     Kristina  Female\n",
       "98  سرکار خانم نيايش سماوات    سماوات        سرکار    None\n",
       "99          Heather Roberts   Roberts      Heather  Female\n",
       "\n",
       "[100 rows x 4 columns]"
      ]
     },
     "execution_count": 229,
     "metadata": {},
     "output_type": "execute_result"
    }
   ],
   "source": [
    "df"
   ]
  },
  {
   "cell_type": "markdown",
   "id": "1a411e0f-7b6e-417e-8634-76bf7619fa0e",
   "metadata": {},
   "source": [
    "# Gender probability"
   ]
  },
  {
   "cell_type": "code",
   "execution_count": 265,
   "id": "dd24ea16-5eb4-48ac-a75b-5ea3cada586c",
   "metadata": {},
   "outputs": [],
   "source": [
    "def geder_prob(first_name):\n",
    "    '''\n",
    "    cheking the Probability of estimation! \n",
    "    '''\n",
    "    info = nd.search(first_name)['first_name']\n",
    "    if info is None: \n",
    "        return\n",
    "    return max(info['gender'].values())\n",
    "    "
   ]
  },
  {
   "cell_type": "code",
   "execution_count": 273,
   "id": "2755dfb3-27de-4ec1-9096-d969d9d9b68a",
   "metadata": {},
   "outputs": [
    {
     "data": {
      "text/plain": [
       "0.942"
      ]
     },
     "execution_count": 273,
     "metadata": {},
     "output_type": "execute_result"
    }
   ],
   "source": [
    "geder_prob('ali')"
   ]
  },
  {
   "cell_type": "code",
   "execution_count": 274,
   "id": "53c36dec-dafb-42b5-817a-ae2759384889",
   "metadata": {},
   "outputs": [
    {
     "data": {
      "text/plain": [
       "0.866"
      ]
     },
     "execution_count": 274,
     "metadata": {},
     "output_type": "execute_result"
    }
   ],
   "source": [
    "geder_prob('نیلوفر')"
   ]
  },
  {
   "cell_type": "markdown",
   "id": "720a47de-91c0-45ea-bff6-9a4aef030a5c",
   "metadata": {},
   "source": [
    "### apply it to our DataFrame..."
   ]
  },
  {
   "cell_type": "code",
   "execution_count": 275,
   "id": "a00bc66b-557d-4172-a12f-908c6d8604f4",
   "metadata": {},
   "outputs": [],
   "source": [
    "df['Gender Probability'] = df['first_name'].apply(lambda gp: geder_prob(gp))"
   ]
  },
  {
   "cell_type": "code",
   "execution_count": 276,
   "id": "2542d1ca-57dd-48c3-91ed-dbf3388d0530",
   "metadata": {},
   "outputs": [
    {
     "data": {
      "text/html": [
       "<div>\n",
       "<style scoped>\n",
       "    .dataframe tbody tr th:only-of-type {\n",
       "        vertical-align: middle;\n",
       "    }\n",
       "\n",
       "    .dataframe tbody tr th {\n",
       "        vertical-align: top;\n",
       "    }\n",
       "\n",
       "    .dataframe thead th {\n",
       "        text-align: right;\n",
       "    }\n",
       "</style>\n",
       "<table border=\"1\" class=\"dataframe\">\n",
       "  <thead>\n",
       "    <tr style=\"text-align: right;\">\n",
       "      <th></th>\n",
       "      <th>name</th>\n",
       "      <th>last_name</th>\n",
       "      <th>first_name</th>\n",
       "      <th>gender</th>\n",
       "      <th>Gender Probability</th>\n",
       "    </tr>\n",
       "  </thead>\n",
       "  <tbody>\n",
       "    <tr>\n",
       "      <th>0</th>\n",
       "      <td>زينب تحسینی</td>\n",
       "      <td>تحسینی</td>\n",
       "      <td>زينب</td>\n",
       "      <td>Female</td>\n",
       "      <td>0.923</td>\n",
       "    </tr>\n",
       "    <tr>\n",
       "      <th>1</th>\n",
       "      <td>Robert Palmer</td>\n",
       "      <td>Palmer</td>\n",
       "      <td>Robert</td>\n",
       "      <td>Male</td>\n",
       "      <td>0.992</td>\n",
       "    </tr>\n",
       "    <tr>\n",
       "      <th>2</th>\n",
       "      <td>جناب آقای آرمین تنزیلی</td>\n",
       "      <td>تنزیلی</td>\n",
       "      <td>جناب</td>\n",
       "      <td>Male</td>\n",
       "      <td>0.942</td>\n",
       "    </tr>\n",
       "    <tr>\n",
       "      <th>3</th>\n",
       "      <td>Christopher Jenkins</td>\n",
       "      <td>Jenkins</td>\n",
       "      <td>Christopher</td>\n",
       "      <td>Male</td>\n",
       "      <td>0.991</td>\n",
       "    </tr>\n",
       "    <tr>\n",
       "      <th>4</th>\n",
       "      <td>اميرمحمد اشتری</td>\n",
       "      <td>اشتری</td>\n",
       "      <td>اميرمحمد</td>\n",
       "      <td>Male</td>\n",
       "      <td>0.953</td>\n",
       "    </tr>\n",
       "    <tr>\n",
       "      <th>...</th>\n",
       "      <td>...</td>\n",
       "      <td>...</td>\n",
       "      <td>...</td>\n",
       "      <td>...</td>\n",
       "      <td>...</td>\n",
       "    </tr>\n",
       "    <tr>\n",
       "      <th>95</th>\n",
       "      <td>محمدجواد نعمتی</td>\n",
       "      <td>نعمتی</td>\n",
       "      <td>محمدجواد</td>\n",
       "      <td>Male</td>\n",
       "      <td>0.960</td>\n",
       "    </tr>\n",
       "    <tr>\n",
       "      <th>96</th>\n",
       "      <td>Christopher Moore</td>\n",
       "      <td>Moore</td>\n",
       "      <td>Christopher</td>\n",
       "      <td>Male</td>\n",
       "      <td>0.991</td>\n",
       "    </tr>\n",
       "    <tr>\n",
       "      <th>97</th>\n",
       "      <td>Kristina Higgins</td>\n",
       "      <td>Higgins</td>\n",
       "      <td>Kristina</td>\n",
       "      <td>Female</td>\n",
       "      <td>0.993</td>\n",
       "    </tr>\n",
       "    <tr>\n",
       "      <th>98</th>\n",
       "      <td>سرکار خانم نيايش سماوات</td>\n",
       "      <td>سماوات</td>\n",
       "      <td>سرکار</td>\n",
       "      <td>None</td>\n",
       "      <td>NaN</td>\n",
       "    </tr>\n",
       "    <tr>\n",
       "      <th>99</th>\n",
       "      <td>Heather Roberts</td>\n",
       "      <td>Roberts</td>\n",
       "      <td>Heather</td>\n",
       "      <td>Female</td>\n",
       "      <td>0.996</td>\n",
       "    </tr>\n",
       "  </tbody>\n",
       "</table>\n",
       "<p>100 rows × 5 columns</p>\n",
       "</div>"
      ],
      "text/plain": [
       "                       name last_name   first_name  gender  Gender Probability\n",
       "0               زينب تحسینی    تحسینی         زينب  Female               0.923\n",
       "1             Robert Palmer    Palmer       Robert    Male               0.992\n",
       "2    جناب آقای آرمین تنزیلی    تنزیلی         جناب    Male               0.942\n",
       "3       Christopher Jenkins   Jenkins  Christopher    Male               0.991\n",
       "4            اميرمحمد اشتری     اشتری     اميرمحمد    Male               0.953\n",
       "..                      ...       ...          ...     ...                 ...\n",
       "95           محمدجواد نعمتی     نعمتی     محمدجواد    Male               0.960\n",
       "96        Christopher Moore     Moore  Christopher    Male               0.991\n",
       "97         Kristina Higgins   Higgins     Kristina  Female               0.993\n",
       "98  سرکار خانم نيايش سماوات    سماوات        سرکار    None                 NaN\n",
       "99          Heather Roberts   Roberts      Heather  Female               0.996\n",
       "\n",
       "[100 rows x 5 columns]"
      ]
     },
     "execution_count": 276,
     "metadata": {},
     "output_type": "execute_result"
    }
   ],
   "source": [
    "df"
   ]
  },
  {
   "cell_type": "markdown",
   "id": "03e36b31-8540-4317-a5f2-ccbdf5de558c",
   "metadata": {},
   "source": [
    "# country prediction"
   ]
  },
  {
   "cell_type": "code",
   "execution_count": 289,
   "id": "b86a6df1-b8eb-467b-9900-159e8c3a38bb",
   "metadata": {},
   "outputs": [],
   "source": [
    "def name_to_country(first_name):\n",
    "    info = nd.search(first_name)['first_name']\n",
    "    if info is None:\n",
    "        return\n",
    "    return max(info['country'], key=info['country'].get)"
   ]
  },
  {
   "cell_type": "code",
   "execution_count": 290,
   "id": "81170f60-6421-4d12-ab6a-b0b6fc1255cb",
   "metadata": {},
   "outputs": [
    {
     "data": {
      "text/plain": [
       "'France'"
      ]
     },
     "execution_count": 290,
     "metadata": {},
     "output_type": "execute_result"
    }
   ],
   "source": [
    "name_to_country('nicolas')"
   ]
  },
  {
   "cell_type": "code",
   "execution_count": 291,
   "id": "3be8687e-4a84-4a32-b574-ac214b3a483e",
   "metadata": {},
   "outputs": [
    {
     "data": {
      "text/plain": [
       "'United States'"
      ]
     },
     "execution_count": 291,
     "metadata": {},
     "output_type": "execute_result"
    }
   ],
   "source": [
    "name_to_country('Christopher')"
   ]
  },
  {
   "cell_type": "code",
   "execution_count": 292,
   "id": "96aed14a-3b39-4d47-af13-9493e562d8ca",
   "metadata": {},
   "outputs": [],
   "source": [
    "df['country'] = df['first_name'].apply(lambda co: name_to_country(co))"
   ]
  },
  {
   "cell_type": "code",
   "execution_count": 293,
   "id": "049b341b-ea5a-4773-b5be-e2d2839bd730",
   "metadata": {},
   "outputs": [
    {
     "data": {
      "text/html": [
       "<div>\n",
       "<style scoped>\n",
       "    .dataframe tbody tr th:only-of-type {\n",
       "        vertical-align: middle;\n",
       "    }\n",
       "\n",
       "    .dataframe tbody tr th {\n",
       "        vertical-align: top;\n",
       "    }\n",
       "\n",
       "    .dataframe thead th {\n",
       "        text-align: right;\n",
       "    }\n",
       "</style>\n",
       "<table border=\"1\" class=\"dataframe\">\n",
       "  <thead>\n",
       "    <tr style=\"text-align: right;\">\n",
       "      <th></th>\n",
       "      <th>name</th>\n",
       "      <th>last_name</th>\n",
       "      <th>first_name</th>\n",
       "      <th>gender</th>\n",
       "      <th>Gender Probability</th>\n",
       "      <th>country</th>\n",
       "    </tr>\n",
       "  </thead>\n",
       "  <tbody>\n",
       "    <tr>\n",
       "      <th>0</th>\n",
       "      <td>زينب تحسینی</td>\n",
       "      <td>تحسینی</td>\n",
       "      <td>زينب</td>\n",
       "      <td>Female</td>\n",
       "      <td>0.923</td>\n",
       "      <td>Iraq</td>\n",
       "    </tr>\n",
       "    <tr>\n",
       "      <th>1</th>\n",
       "      <td>Robert Palmer</td>\n",
       "      <td>Palmer</td>\n",
       "      <td>Robert</td>\n",
       "      <td>Male</td>\n",
       "      <td>0.992</td>\n",
       "      <td>United States</td>\n",
       "    </tr>\n",
       "    <tr>\n",
       "      <th>2</th>\n",
       "      <td>جناب آقای آرمین تنزیلی</td>\n",
       "      <td>تنزیلی</td>\n",
       "      <td>جناب</td>\n",
       "      <td>Male</td>\n",
       "      <td>0.942</td>\n",
       "      <td>Egypt</td>\n",
       "    </tr>\n",
       "    <tr>\n",
       "      <th>3</th>\n",
       "      <td>Christopher Jenkins</td>\n",
       "      <td>Jenkins</td>\n",
       "      <td>Christopher</td>\n",
       "      <td>Male</td>\n",
       "      <td>0.991</td>\n",
       "      <td>United States</td>\n",
       "    </tr>\n",
       "    <tr>\n",
       "      <th>4</th>\n",
       "      <td>اميرمحمد اشتری</td>\n",
       "      <td>اشتری</td>\n",
       "      <td>اميرمحمد</td>\n",
       "      <td>Male</td>\n",
       "      <td>0.953</td>\n",
       "      <td>Sudan</td>\n",
       "    </tr>\n",
       "    <tr>\n",
       "      <th>...</th>\n",
       "      <td>...</td>\n",
       "      <td>...</td>\n",
       "      <td>...</td>\n",
       "      <td>...</td>\n",
       "      <td>...</td>\n",
       "      <td>...</td>\n",
       "    </tr>\n",
       "    <tr>\n",
       "      <th>95</th>\n",
       "      <td>محمدجواد نعمتی</td>\n",
       "      <td>نعمتی</td>\n",
       "      <td>محمدجواد</td>\n",
       "      <td>Male</td>\n",
       "      <td>0.960</td>\n",
       "      <td>Iran, Islamic Republic of</td>\n",
       "    </tr>\n",
       "    <tr>\n",
       "      <th>96</th>\n",
       "      <td>Christopher Moore</td>\n",
       "      <td>Moore</td>\n",
       "      <td>Christopher</td>\n",
       "      <td>Male</td>\n",
       "      <td>0.991</td>\n",
       "      <td>United States</td>\n",
       "    </tr>\n",
       "    <tr>\n",
       "      <th>97</th>\n",
       "      <td>Kristina Higgins</td>\n",
       "      <td>Higgins</td>\n",
       "      <td>Kristina</td>\n",
       "      <td>Female</td>\n",
       "      <td>0.993</td>\n",
       "      <td>Russian Federation</td>\n",
       "    </tr>\n",
       "    <tr>\n",
       "      <th>98</th>\n",
       "      <td>سرکار خانم نيايش سماوات</td>\n",
       "      <td>سماوات</td>\n",
       "      <td>سرکار</td>\n",
       "      <td>None</td>\n",
       "      <td>NaN</td>\n",
       "      <td>None</td>\n",
       "    </tr>\n",
       "    <tr>\n",
       "      <th>99</th>\n",
       "      <td>Heather Roberts</td>\n",
       "      <td>Roberts</td>\n",
       "      <td>Heather</td>\n",
       "      <td>Female</td>\n",
       "      <td>0.996</td>\n",
       "      <td>United States</td>\n",
       "    </tr>\n",
       "  </tbody>\n",
       "</table>\n",
       "<p>100 rows × 6 columns</p>\n",
       "</div>"
      ],
      "text/plain": [
       "                       name last_name   first_name  gender  \\\n",
       "0               زينب تحسینی    تحسینی         زينب  Female   \n",
       "1             Robert Palmer    Palmer       Robert    Male   \n",
       "2    جناب آقای آرمین تنزیلی    تنزیلی         جناب    Male   \n",
       "3       Christopher Jenkins   Jenkins  Christopher    Male   \n",
       "4            اميرمحمد اشتری     اشتری     اميرمحمد    Male   \n",
       "..                      ...       ...          ...     ...   \n",
       "95           محمدجواد نعمتی     نعمتی     محمدجواد    Male   \n",
       "96        Christopher Moore     Moore  Christopher    Male   \n",
       "97         Kristina Higgins   Higgins     Kristina  Female   \n",
       "98  سرکار خانم نيايش سماوات    سماوات        سرکار    None   \n",
       "99          Heather Roberts   Roberts      Heather  Female   \n",
       "\n",
       "    Gender Probability                    country  \n",
       "0                0.923                       Iraq  \n",
       "1                0.992              United States  \n",
       "2                0.942                      Egypt  \n",
       "3                0.991              United States  \n",
       "4                0.953                      Sudan  \n",
       "..                 ...                        ...  \n",
       "95               0.960  Iran, Islamic Republic of  \n",
       "96               0.991              United States  \n",
       "97               0.993         Russian Federation  \n",
       "98                 NaN                       None  \n",
       "99               0.996              United States  \n",
       "\n",
       "[100 rows x 6 columns]"
      ]
     },
     "execution_count": 293,
     "metadata": {},
     "output_type": "execute_result"
    }
   ],
   "source": [
    "df"
   ]
  },
  {
   "cell_type": "markdown",
   "id": "02c12633-7e6b-4fde-be6f-50a1f28295b1",
   "metadata": {},
   "source": [
    "## Country Probability"
   ]
  },
  {
   "cell_type": "code",
   "execution_count": 310,
   "id": "3a67e1dc-fd9c-4439-a7b1-12617bf1b7f0",
   "metadata": {},
   "outputs": [],
   "source": [
    "def Country_Probability(first_name):\n",
    "    info = nd.search(first_name)['first_name']\n",
    "    if info is None:\n",
    "        return\n",
    "    return max(info['country'].values())"
   ]
  },
  {
   "cell_type": "code",
   "execution_count": 320,
   "id": "255a0892-c39c-4c37-9113-67df399704f2",
   "metadata": {},
   "outputs": [
    {
     "data": {
      "text/plain": [
       "0.787"
      ]
     },
     "execution_count": 320,
     "metadata": {},
     "output_type": "execute_result"
    }
   ],
   "source": [
    "Country_Probability('behzad')"
   ]
  },
  {
   "cell_type": "code",
   "execution_count": 321,
   "id": "e4a43d1e-23d9-47aa-87cf-c5ee81d73c55",
   "metadata": {},
   "outputs": [
    {
     "data": {
      "text/plain": [
       "0.672"
      ]
     },
     "execution_count": 321,
     "metadata": {},
     "output_type": "execute_result"
    }
   ],
   "source": [
    "Country_Probability('behnaz')"
   ]
  },
  {
   "cell_type": "code",
   "execution_count": 322,
   "id": "4506054d-4e42-4cf0-b7ab-ce448f1deeab",
   "metadata": {},
   "outputs": [],
   "source": [
    "df['Country Probability'] = df['first_name'].apply(lambda cp: Country_Probability(cp))"
   ]
  },
  {
   "cell_type": "code",
   "execution_count": 323,
   "id": "d1ce55a9-61b4-4e18-a91d-c45e346e92f0",
   "metadata": {},
   "outputs": [
    {
     "data": {
      "text/html": [
       "<div>\n",
       "<style scoped>\n",
       "    .dataframe tbody tr th:only-of-type {\n",
       "        vertical-align: middle;\n",
       "    }\n",
       "\n",
       "    .dataframe tbody tr th {\n",
       "        vertical-align: top;\n",
       "    }\n",
       "\n",
       "    .dataframe thead th {\n",
       "        text-align: right;\n",
       "    }\n",
       "</style>\n",
       "<table border=\"1\" class=\"dataframe\">\n",
       "  <thead>\n",
       "    <tr style=\"text-align: right;\">\n",
       "      <th></th>\n",
       "      <th>name</th>\n",
       "      <th>last_name</th>\n",
       "      <th>first_name</th>\n",
       "      <th>gender</th>\n",
       "      <th>Gender Probability</th>\n",
       "      <th>country</th>\n",
       "      <th>Country Probability</th>\n",
       "    </tr>\n",
       "  </thead>\n",
       "  <tbody>\n",
       "    <tr>\n",
       "      <th>0</th>\n",
       "      <td>زينب تحسینی</td>\n",
       "      <td>تحسینی</td>\n",
       "      <td>زينب</td>\n",
       "      <td>Female</td>\n",
       "      <td>0.923</td>\n",
       "      <td>Iraq</td>\n",
       "      <td>0.474</td>\n",
       "    </tr>\n",
       "    <tr>\n",
       "      <th>1</th>\n",
       "      <td>Robert Palmer</td>\n",
       "      <td>Palmer</td>\n",
       "      <td>Robert</td>\n",
       "      <td>Male</td>\n",
       "      <td>0.992</td>\n",
       "      <td>United States</td>\n",
       "      <td>0.424</td>\n",
       "    </tr>\n",
       "    <tr>\n",
       "      <th>2</th>\n",
       "      <td>جناب آقای آرمین تنزیلی</td>\n",
       "      <td>تنزیلی</td>\n",
       "      <td>جناب</td>\n",
       "      <td>Male</td>\n",
       "      <td>0.942</td>\n",
       "      <td>Egypt</td>\n",
       "      <td>0.547</td>\n",
       "    </tr>\n",
       "    <tr>\n",
       "      <th>3</th>\n",
       "      <td>Christopher Jenkins</td>\n",
       "      <td>Jenkins</td>\n",
       "      <td>Christopher</td>\n",
       "      <td>Male</td>\n",
       "      <td>0.991</td>\n",
       "      <td>United States</td>\n",
       "      <td>0.444</td>\n",
       "    </tr>\n",
       "    <tr>\n",
       "      <th>4</th>\n",
       "      <td>اميرمحمد اشتری</td>\n",
       "      <td>اشتری</td>\n",
       "      <td>اميرمحمد</td>\n",
       "      <td>Male</td>\n",
       "      <td>0.953</td>\n",
       "      <td>Sudan</td>\n",
       "      <td>0.311</td>\n",
       "    </tr>\n",
       "    <tr>\n",
       "      <th>...</th>\n",
       "      <td>...</td>\n",
       "      <td>...</td>\n",
       "      <td>...</td>\n",
       "      <td>...</td>\n",
       "      <td>...</td>\n",
       "      <td>...</td>\n",
       "      <td>...</td>\n",
       "    </tr>\n",
       "    <tr>\n",
       "      <th>95</th>\n",
       "      <td>محمدجواد نعمتی</td>\n",
       "      <td>نعمتی</td>\n",
       "      <td>محمدجواد</td>\n",
       "      <td>Male</td>\n",
       "      <td>0.960</td>\n",
       "      <td>Iran, Islamic Republic of</td>\n",
       "      <td>0.546</td>\n",
       "    </tr>\n",
       "    <tr>\n",
       "      <th>96</th>\n",
       "      <td>Christopher Moore</td>\n",
       "      <td>Moore</td>\n",
       "      <td>Christopher</td>\n",
       "      <td>Male</td>\n",
       "      <td>0.991</td>\n",
       "      <td>United States</td>\n",
       "      <td>0.444</td>\n",
       "    </tr>\n",
       "    <tr>\n",
       "      <th>97</th>\n",
       "      <td>Kristina Higgins</td>\n",
       "      <td>Higgins</td>\n",
       "      <td>Kristina</td>\n",
       "      <td>Female</td>\n",
       "      <td>0.993</td>\n",
       "      <td>Russian Federation</td>\n",
       "      <td>0.264</td>\n",
       "    </tr>\n",
       "    <tr>\n",
       "      <th>98</th>\n",
       "      <td>سرکار خانم نيايش سماوات</td>\n",
       "      <td>سماوات</td>\n",
       "      <td>سرکار</td>\n",
       "      <td>None</td>\n",
       "      <td>NaN</td>\n",
       "      <td>None</td>\n",
       "      <td>NaN</td>\n",
       "    </tr>\n",
       "    <tr>\n",
       "      <th>99</th>\n",
       "      <td>Heather Roberts</td>\n",
       "      <td>Roberts</td>\n",
       "      <td>Heather</td>\n",
       "      <td>Female</td>\n",
       "      <td>0.996</td>\n",
       "      <td>United States</td>\n",
       "      <td>0.624</td>\n",
       "    </tr>\n",
       "  </tbody>\n",
       "</table>\n",
       "<p>100 rows × 7 columns</p>\n",
       "</div>"
      ],
      "text/plain": [
       "                       name last_name   first_name  gender  \\\n",
       "0               زينب تحسینی    تحسینی         زينب  Female   \n",
       "1             Robert Palmer    Palmer       Robert    Male   \n",
       "2    جناب آقای آرمین تنزیلی    تنزیلی         جناب    Male   \n",
       "3       Christopher Jenkins   Jenkins  Christopher    Male   \n",
       "4            اميرمحمد اشتری     اشتری     اميرمحمد    Male   \n",
       "..                      ...       ...          ...     ...   \n",
       "95           محمدجواد نعمتی     نعمتی     محمدجواد    Male   \n",
       "96        Christopher Moore     Moore  Christopher    Male   \n",
       "97         Kristina Higgins   Higgins     Kristina  Female   \n",
       "98  سرکار خانم نيايش سماوات    سماوات        سرکار    None   \n",
       "99          Heather Roberts   Roberts      Heather  Female   \n",
       "\n",
       "    Gender Probability                    country  Country Probability  \n",
       "0                0.923                       Iraq                0.474  \n",
       "1                0.992              United States                0.424  \n",
       "2                0.942                      Egypt                0.547  \n",
       "3                0.991              United States                0.444  \n",
       "4                0.953                      Sudan                0.311  \n",
       "..                 ...                        ...                  ...  \n",
       "95               0.960  Iran, Islamic Republic of                0.546  \n",
       "96               0.991              United States                0.444  \n",
       "97               0.993         Russian Federation                0.264  \n",
       "98                 NaN                       None                  NaN  \n",
       "99               0.996              United States                0.624  \n",
       "\n",
       "[100 rows x 7 columns]"
      ]
     },
     "execution_count": 323,
     "metadata": {},
     "output_type": "execute_result"
    }
   ],
   "source": [
    "df"
   ]
  },
  {
   "cell_type": "code",
   "execution_count": 327,
   "id": "b43685f6-8f57-4284-8484-02c6c7095429",
   "metadata": {},
   "outputs": [
    {
     "data": {
      "text/html": [
       "<div>\n",
       "<style scoped>\n",
       "    .dataframe tbody tr th:only-of-type {\n",
       "        vertical-align: middle;\n",
       "    }\n",
       "\n",
       "    .dataframe tbody tr th {\n",
       "        vertical-align: top;\n",
       "    }\n",
       "\n",
       "    .dataframe thead th {\n",
       "        text-align: right;\n",
       "    }\n",
       "</style>\n",
       "<table border=\"1\" class=\"dataframe\">\n",
       "  <thead>\n",
       "    <tr style=\"text-align: right;\">\n",
       "      <th></th>\n",
       "      <th>name</th>\n",
       "      <th>last_name</th>\n",
       "      <th>first_name</th>\n",
       "      <th>gender</th>\n",
       "      <th>Gender Probability</th>\n",
       "      <th>country</th>\n",
       "      <th>Country Probability</th>\n",
       "    </tr>\n",
       "  </thead>\n",
       "  <tbody>\n",
       "    <tr>\n",
       "      <th>0</th>\n",
       "      <td>زينب تحسینی</td>\n",
       "      <td>تحسینی</td>\n",
       "      <td>زينب</td>\n",
       "      <td>Female</td>\n",
       "      <td>0.923</td>\n",
       "      <td>Iraq</td>\n",
       "      <td>0.474</td>\n",
       "    </tr>\n",
       "    <tr>\n",
       "      <th>1</th>\n",
       "      <td>Robert Palmer</td>\n",
       "      <td>Palmer</td>\n",
       "      <td>Robert</td>\n",
       "      <td>Male</td>\n",
       "      <td>0.992</td>\n",
       "      <td>United States</td>\n",
       "      <td>0.424</td>\n",
       "    </tr>\n",
       "    <tr>\n",
       "      <th>2</th>\n",
       "      <td>جناب آقای آرمین تنزیلی</td>\n",
       "      <td>تنزیلی</td>\n",
       "      <td>جناب</td>\n",
       "      <td>Male</td>\n",
       "      <td>0.942</td>\n",
       "      <td>Egypt</td>\n",
       "      <td>0.547</td>\n",
       "    </tr>\n",
       "    <tr>\n",
       "      <th>3</th>\n",
       "      <td>Christopher Jenkins</td>\n",
       "      <td>Jenkins</td>\n",
       "      <td>Christopher</td>\n",
       "      <td>Male</td>\n",
       "      <td>0.991</td>\n",
       "      <td>United States</td>\n",
       "      <td>0.444</td>\n",
       "    </tr>\n",
       "    <tr>\n",
       "      <th>4</th>\n",
       "      <td>اميرمحمد اشتری</td>\n",
       "      <td>اشتری</td>\n",
       "      <td>اميرمحمد</td>\n",
       "      <td>Male</td>\n",
       "      <td>0.953</td>\n",
       "      <td>Sudan</td>\n",
       "      <td>0.311</td>\n",
       "    </tr>\n",
       "    <tr>\n",
       "      <th>5</th>\n",
       "      <td>جناب آقای دکتر بنیامین هوشیار</td>\n",
       "      <td>هوشیار</td>\n",
       "      <td>جناب</td>\n",
       "      <td>Male</td>\n",
       "      <td>0.942</td>\n",
       "      <td>Egypt</td>\n",
       "      <td>0.547</td>\n",
       "    </tr>\n",
       "    <tr>\n",
       "      <th>6</th>\n",
       "      <td>پرهام اشتری</td>\n",
       "      <td>اشتری</td>\n",
       "      <td>پرهام</td>\n",
       "      <td>Male</td>\n",
       "      <td>0.940</td>\n",
       "      <td>Iran, Islamic Republic of</td>\n",
       "      <td>0.953</td>\n",
       "    </tr>\n",
       "    <tr>\n",
       "      <th>7</th>\n",
       "      <td>اسما موحد</td>\n",
       "      <td>موحد</td>\n",
       "      <td>اسما</td>\n",
       "      <td>Female</td>\n",
       "      <td>0.871</td>\n",
       "      <td>Egypt</td>\n",
       "      <td>0.441</td>\n",
       "    </tr>\n",
       "    <tr>\n",
       "      <th>8</th>\n",
       "      <td>Michael Dawson</td>\n",
       "      <td>Dawson</td>\n",
       "      <td>Michael</td>\n",
       "      <td>Male</td>\n",
       "      <td>0.992</td>\n",
       "      <td>United States</td>\n",
       "      <td>0.407</td>\n",
       "    </tr>\n",
       "    <tr>\n",
       "      <th>9</th>\n",
       "      <td>Kevin Jones</td>\n",
       "      <td>Jones</td>\n",
       "      <td>Kevin</td>\n",
       "      <td>Male</td>\n",
       "      <td>0.992</td>\n",
       "      <td>United States</td>\n",
       "      <td>0.310</td>\n",
       "    </tr>\n",
       "    <tr>\n",
       "      <th>10</th>\n",
       "      <td>یاسمین عزیزی</td>\n",
       "      <td>عزیزی</td>\n",
       "      <td>یاسمین</td>\n",
       "      <td>Female</td>\n",
       "      <td>0.897</td>\n",
       "      <td>Egypt</td>\n",
       "      <td>0.375</td>\n",
       "    </tr>\n",
       "    <tr>\n",
       "      <th>11</th>\n",
       "      <td>Philip Collins PhD</td>\n",
       "      <td>PhD</td>\n",
       "      <td>Philip</td>\n",
       "      <td>Male</td>\n",
       "      <td>0.988</td>\n",
       "      <td>United Kingdom</td>\n",
       "      <td>0.306</td>\n",
       "    </tr>\n",
       "    <tr>\n",
       "      <th>12</th>\n",
       "      <td>آريا کمالی</td>\n",
       "      <td>کمالی</td>\n",
       "      <td>آريا</td>\n",
       "      <td>None</td>\n",
       "      <td>NaN</td>\n",
       "      <td>None</td>\n",
       "      <td>NaN</td>\n",
       "    </tr>\n",
       "    <tr>\n",
       "      <th>13</th>\n",
       "      <td>آيناز معین</td>\n",
       "      <td>معین</td>\n",
       "      <td>آيناز</td>\n",
       "      <td>None</td>\n",
       "      <td>NaN</td>\n",
       "      <td>None</td>\n",
       "      <td>NaN</td>\n",
       "    </tr>\n",
       "    <tr>\n",
       "      <th>14</th>\n",
       "      <td>الناز ضرغامی</td>\n",
       "      <td>ضرغامی</td>\n",
       "      <td>الناز</td>\n",
       "      <td>Female</td>\n",
       "      <td>0.922</td>\n",
       "      <td>Iran, Islamic Republic of</td>\n",
       "      <td>0.753</td>\n",
       "    </tr>\n",
       "    <tr>\n",
       "      <th>15</th>\n",
       "      <td>سرکار خانم دکتر كیانا حریریان</td>\n",
       "      <td>حریریان</td>\n",
       "      <td>سرکار</td>\n",
       "      <td>None</td>\n",
       "      <td>NaN</td>\n",
       "      <td>None</td>\n",
       "      <td>NaN</td>\n",
       "    </tr>\n",
       "    <tr>\n",
       "      <th>16</th>\n",
       "      <td>Jay Reilly</td>\n",
       "      <td>Reilly</td>\n",
       "      <td>Jay</td>\n",
       "      <td>Male</td>\n",
       "      <td>0.904</td>\n",
       "      <td>United States</td>\n",
       "      <td>0.515</td>\n",
       "    </tr>\n",
       "    <tr>\n",
       "      <th>17</th>\n",
       "      <td>جناب آقای علي ولاشجردی</td>\n",
       "      <td>ولاشجردی</td>\n",
       "      <td>جناب</td>\n",
       "      <td>Male</td>\n",
       "      <td>0.942</td>\n",
       "      <td>Egypt</td>\n",
       "      <td>0.547</td>\n",
       "    </tr>\n",
       "    <tr>\n",
       "      <th>18</th>\n",
       "      <td>Joshua Price</td>\n",
       "      <td>Price</td>\n",
       "      <td>Joshua</td>\n",
       "      <td>Male</td>\n",
       "      <td>0.987</td>\n",
       "      <td>United States</td>\n",
       "      <td>0.510</td>\n",
       "    </tr>\n",
       "    <tr>\n",
       "      <th>19</th>\n",
       "      <td>علي شبیری</td>\n",
       "      <td>شبیری</td>\n",
       "      <td>علي</td>\n",
       "      <td>Male</td>\n",
       "      <td>0.964</td>\n",
       "      <td>Iraq</td>\n",
       "      <td>0.467</td>\n",
       "    </tr>\n",
       "  </tbody>\n",
       "</table>\n",
       "</div>"
      ],
      "text/plain": [
       "                             name last_name   first_name  gender  \\\n",
       "0                     زينب تحسینی    تحسینی         زينب  Female   \n",
       "1                   Robert Palmer    Palmer       Robert    Male   \n",
       "2          جناب آقای آرمین تنزیلی    تنزیلی         جناب    Male   \n",
       "3             Christopher Jenkins   Jenkins  Christopher    Male   \n",
       "4                  اميرمحمد اشتری     اشتری     اميرمحمد    Male   \n",
       "5   جناب آقای دکتر بنیامین هوشیار    هوشیار         جناب    Male   \n",
       "6                     پرهام اشتری     اشتری        پرهام    Male   \n",
       "7                       اسما موحد      موحد         اسما  Female   \n",
       "8                  Michael Dawson    Dawson      Michael    Male   \n",
       "9                     Kevin Jones     Jones        Kevin    Male   \n",
       "10                   یاسمین عزیزی     عزیزی       یاسمین  Female   \n",
       "11             Philip Collins PhD       PhD       Philip    Male   \n",
       "12                     آريا کمالی     کمالی         آريا    None   \n",
       "13                     آيناز معین      معین        آيناز    None   \n",
       "14                   الناز ضرغامی    ضرغامی        الناز  Female   \n",
       "15  سرکار خانم دکتر كیانا حریریان   حریریان        سرکار    None   \n",
       "16                     Jay Reilly    Reilly          Jay    Male   \n",
       "17         جناب آقای علي ولاشجردی  ولاشجردی         جناب    Male   \n",
       "18                   Joshua Price     Price       Joshua    Male   \n",
       "19                      علي شبیری     شبیری          علي    Male   \n",
       "\n",
       "    Gender Probability                    country  Country Probability  \n",
       "0                0.923                       Iraq                0.474  \n",
       "1                0.992              United States                0.424  \n",
       "2                0.942                      Egypt                0.547  \n",
       "3                0.991              United States                0.444  \n",
       "4                0.953                      Sudan                0.311  \n",
       "5                0.942                      Egypt                0.547  \n",
       "6                0.940  Iran, Islamic Republic of                0.953  \n",
       "7                0.871                      Egypt                0.441  \n",
       "8                0.992              United States                0.407  \n",
       "9                0.992              United States                0.310  \n",
       "10               0.897                      Egypt                0.375  \n",
       "11               0.988             United Kingdom                0.306  \n",
       "12                 NaN                       None                  NaN  \n",
       "13                 NaN                       None                  NaN  \n",
       "14               0.922  Iran, Islamic Republic of                0.753  \n",
       "15                 NaN                       None                  NaN  \n",
       "16               0.904              United States                0.515  \n",
       "17               0.942                      Egypt                0.547  \n",
       "18               0.987              United States                0.510  \n",
       "19               0.964                       Iraq                0.467  "
      ]
     },
     "execution_count": 327,
     "metadata": {},
     "output_type": "execute_result"
    }
   ],
   "source": [
    "df.head(20)"
   ]
  },
  {
   "cell_type": "markdown",
   "id": "fd4e4806-07fc-490f-866d-e9794864b803",
   "metadata": {},
   "source": [
    "# it's done!!"
   ]
  },
  {
   "cell_type": "code",
   "execution_count": null,
   "id": "085851d3-ddd9-4989-8abf-8414015acfab",
   "metadata": {},
   "outputs": [],
   "source": []
  }
 ],
 "metadata": {
  "kernelspec": {
   "display_name": "Python 3 (ipykernel)",
   "language": "python",
   "name": "python3"
  },
  "language_info": {
   "codemirror_mode": {
    "name": "ipython",
    "version": 3
   },
   "file_extension": ".py",
   "mimetype": "text/x-python",
   "name": "python",
   "nbconvert_exporter": "python",
   "pygments_lexer": "ipython3",
   "version": "3.10.8"
  }
 },
 "nbformat": 4,
 "nbformat_minor": 5
}
