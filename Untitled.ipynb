{
 "cells": [
  {
   "cell_type": "code",
   "execution_count": 1,
   "id": "8f72ec02-18b4-415e-bd99-59169a0d6c8e",
   "metadata": {},
   "outputs": [
    {
     "name": "stdout",
     "output_type": "stream",
     "text": [
      "Requirement already satisfied: Faker in /home/behzad/anaconda3/envs/ML/lib/python3.10/site-packages (15.3.4)\n",
      "Requirement already satisfied: python-dateutil>=2.4 in /home/behzad/anaconda3/envs/ML/lib/python3.10/site-packages (from Faker) (2.8.2)\n",
      "Requirement already satisfied: six>=1.5 in /home/behzad/anaconda3/envs/ML/lib/python3.10/site-packages (from python-dateutil>=2.4->Faker) (1.16.0)\n",
      "Requirement already satisfied: names-dataset in /home/behzad/anaconda3/envs/ML/lib/python3.10/site-packages (3.1.0)\n",
      "Requirement already satisfied: pycountry in /home/behzad/anaconda3/envs/ML/lib/python3.10/site-packages (from names-dataset) (22.3.5)\n",
      "Requirement already satisfied: setuptools in /home/behzad/anaconda3/envs/ML/lib/python3.10/site-packages (from pycountry->names-dataset) (65.5.0)\n"
     ]
    }
   ],
   "source": [
    "!pip install Faker \n",
    "!pip install names-dataset"
   ]
  },
  {
   "cell_type": "code",
   "execution_count": 2,
   "id": "20cedade-4746-4672-845f-77dc1e2b9706",
   "metadata": {},
   "outputs": [],
   "source": [
    "from faker import Faker"
   ]
  },
  {
   "cell_type": "code",
   "execution_count": 37,
   "id": "4c0418fe-56c9-4c57-8e05-dc01cba26608",
   "metadata": {},
   "outputs": [],
   "source": [
    "en_fake = Faker()\n",
    "fa_fake = Faker('fa')"
   ]
  },
  {
   "cell_type": "code",
   "execution_count": 39,
   "id": "d839bd51-715b-4acb-837b-1aae03fcb8a8",
   "metadata": {},
   "outputs": [],
   "source": [
    "from names_dataset import NameDataset\n",
    "nd = NameDataset()"
   ]
  },
  {
   "cell_type": "code",
   "execution_count": 46,
   "id": "5807ce0f-1a1d-4a50-885d-6b65ebc82f47",
   "metadata": {},
   "outputs": [
    {
     "data": {
      "text/plain": [
       "{'Female': 0.022, 'Male': 0.978}"
      ]
     },
     "execution_count": 46,
     "metadata": {},
     "output_type": "execute_result"
    }
   ],
   "source": [
    "nd.search('behzad')['first_name']['gender']"
   ]
  },
  {
   "cell_type": "markdown",
   "id": "fa9a65ce-5aa6-4b34-8046-8b0aa06bfb7e",
   "metadata": {},
   "source": [
    "# let's Generate some Fake Data!!"
   ]
  },
  {
   "cell_type": "code",
   "execution_count": 47,
   "id": "b6dc2b65-a5ab-43ea-9273-5d849b1cc941",
   "metadata": {},
   "outputs": [],
   "source": [
    "import numpy as np \n",
    "import pandas as pd "
   ]
  },
  {
   "cell_type": "code",
   "execution_count": 105,
   "id": "e4681e96-bab2-4a02-8d92-f4dfaa5726d9",
   "metadata": {},
   "outputs": [],
   "source": [
    "def make_name():\n",
    "    ''' \n",
    "    This function generate an Iranian name in 50% of the times and\n",
    "    an English name in the other 50% of the times.\n",
    "    '''\n",
    "    if np.random.rand() > .5:\n",
    "        return en_fake.name()\n",
    "    return fa_fake.name()"
   ]
  },
  {
   "cell_type": "code",
   "execution_count": 106,
   "id": "1a4681e7-98c1-46f8-811c-9da6ce309eb4",
   "metadata": {},
   "outputs": [],
   "source": [
    "name = [make_name() for _ in range(100)]"
   ]
  },
  {
   "cell_type": "code",
   "execution_count": 107,
   "id": "64e36db6-0965-43bf-8644-1d418fb6e3b4",
   "metadata": {},
   "outputs": [],
   "source": [
    "df = pd.DataFrame({\n",
    "    'name' : name\n",
    "})"
   ]
  },
  {
   "cell_type": "code",
   "execution_count": 108,
   "id": "f0589bf4-efd5-4737-b10a-f56df2acf404",
   "metadata": {},
   "outputs": [
    {
     "data": {
      "text/html": [
       "<div>\n",
       "<style scoped>\n",
       "    .dataframe tbody tr th:only-of-type {\n",
       "        vertical-align: middle;\n",
       "    }\n",
       "\n",
       "    .dataframe tbody tr th {\n",
       "        vertical-align: top;\n",
       "    }\n",
       "\n",
       "    .dataframe thead th {\n",
       "        text-align: right;\n",
       "    }\n",
       "</style>\n",
       "<table border=\"1\" class=\"dataframe\">\n",
       "  <thead>\n",
       "    <tr style=\"text-align: right;\">\n",
       "      <th></th>\n",
       "      <th>name</th>\n",
       "    </tr>\n",
       "  </thead>\n",
       "  <tbody>\n",
       "    <tr>\n",
       "      <th>0</th>\n",
       "      <td>زينب تحسینی</td>\n",
       "    </tr>\n",
       "    <tr>\n",
       "      <th>1</th>\n",
       "      <td>Robert Palmer</td>\n",
       "    </tr>\n",
       "    <tr>\n",
       "      <th>2</th>\n",
       "      <td>جناب آقای آرمین تنزیلی</td>\n",
       "    </tr>\n",
       "    <tr>\n",
       "      <th>3</th>\n",
       "      <td>Christopher Jenkins</td>\n",
       "    </tr>\n",
       "    <tr>\n",
       "      <th>4</th>\n",
       "      <td>اميرمحمد اشتری</td>\n",
       "    </tr>\n",
       "    <tr>\n",
       "      <th>...</th>\n",
       "      <td>...</td>\n",
       "    </tr>\n",
       "    <tr>\n",
       "      <th>95</th>\n",
       "      <td>محمدجواد نعمتی</td>\n",
       "    </tr>\n",
       "    <tr>\n",
       "      <th>96</th>\n",
       "      <td>Christopher Moore</td>\n",
       "    </tr>\n",
       "    <tr>\n",
       "      <th>97</th>\n",
       "      <td>Kristina Higgins</td>\n",
       "    </tr>\n",
       "    <tr>\n",
       "      <th>98</th>\n",
       "      <td>سرکار خانم نيايش سماوات</td>\n",
       "    </tr>\n",
       "    <tr>\n",
       "      <th>99</th>\n",
       "      <td>Heather Roberts</td>\n",
       "    </tr>\n",
       "  </tbody>\n",
       "</table>\n",
       "<p>100 rows × 1 columns</p>\n",
       "</div>"
      ],
      "text/plain": [
       "                       name\n",
       "0               زينب تحسینی\n",
       "1             Robert Palmer\n",
       "2    جناب آقای آرمین تنزیلی\n",
       "3       Christopher Jenkins\n",
       "4            اميرمحمد اشتری\n",
       "..                      ...\n",
       "95           محمدجواد نعمتی\n",
       "96        Christopher Moore\n",
       "97         Kristina Higgins\n",
       "98  سرکار خانم نيايش سماوات\n",
       "99          Heather Roberts\n",
       "\n",
       "[100 rows x 1 columns]"
      ]
     },
     "execution_count": 108,
     "metadata": {},
     "output_type": "execute_result"
    }
   ],
   "source": [
    "df"
   ]
  },
  {
   "cell_type": "markdown",
   "id": "a85a2719-562c-4d8d-98c2-08ae036c4788",
   "metadata": {},
   "source": [
    "# extracting first name and last name"
   ]
  },
  {
   "cell_type": "code",
   "execution_count": 117,
   "id": "5d329a08-d8b3-4a56-9b80-fc8c80b8dc83",
   "metadata": {},
   "outputs": [
    {
     "data": {
      "text/plain": [
       "'الينا شاکری'"
      ]
     },
     "execution_count": 117,
     "metadata": {},
     "output_type": "execute_result"
    }
   ],
   "source": [
    "full_name = fa_fake.name()\n",
    "full_name"
   ]
  },
  {
   "cell_type": "code",
   "execution_count": 121,
   "id": "7689f6cd-3e0c-4e96-a261-f71478d5bd4f",
   "metadata": {},
   "outputs": [
    {
     "data": {
      "text/plain": [
       "'الينا'"
      ]
     },
     "execution_count": 121,
     "metadata": {},
     "output_type": "execute_result"
    }
   ],
   "source": [
    "f_name = full_name.split()[0]\n",
    "f_name"
   ]
  },
  {
   "cell_type": "code",
   "execution_count": 124,
   "id": "2dd7f75a-6bea-4f2c-8945-a8e2c9ab52e0",
   "metadata": {},
   "outputs": [],
   "source": [
    "df['first_name'] = df['name'].apply(lambda full_name: full_name.split()[0])\n",
    "df['last_name'] = df['name'].apply(lambda full_name: full_name.split()[-1])"
   ]
  },
  {
   "cell_type": "code",
   "execution_count": 127,
   "id": "bb2df4f3-7983-4ab0-b367-31c4d8ed319d",
   "metadata": {},
   "outputs": [
    {
     "data": {
      "text/html": [
       "<div>\n",
       "<style scoped>\n",
       "    .dataframe tbody tr th:only-of-type {\n",
       "        vertical-align: middle;\n",
       "    }\n",
       "\n",
       "    .dataframe tbody tr th {\n",
       "        vertical-align: top;\n",
       "    }\n",
       "\n",
       "    .dataframe thead th {\n",
       "        text-align: right;\n",
       "    }\n",
       "</style>\n",
       "<table border=\"1\" class=\"dataframe\">\n",
       "  <thead>\n",
       "    <tr style=\"text-align: right;\">\n",
       "      <th></th>\n",
       "      <th>name</th>\n",
       "      <th>last_name</th>\n",
       "      <th>first_name</th>\n",
       "    </tr>\n",
       "  </thead>\n",
       "  <tbody>\n",
       "    <tr>\n",
       "      <th>0</th>\n",
       "      <td>زينب تحسینی</td>\n",
       "      <td>تحسینی</td>\n",
       "      <td>زينب</td>\n",
       "    </tr>\n",
       "    <tr>\n",
       "      <th>1</th>\n",
       "      <td>Robert Palmer</td>\n",
       "      <td>Palmer</td>\n",
       "      <td>Robert</td>\n",
       "    </tr>\n",
       "    <tr>\n",
       "      <th>2</th>\n",
       "      <td>جناب آقای آرمین تنزیلی</td>\n",
       "      <td>تنزیلی</td>\n",
       "      <td>جناب</td>\n",
       "    </tr>\n",
       "    <tr>\n",
       "      <th>3</th>\n",
       "      <td>Christopher Jenkins</td>\n",
       "      <td>Jenkins</td>\n",
       "      <td>Christopher</td>\n",
       "    </tr>\n",
       "    <tr>\n",
       "      <th>4</th>\n",
       "      <td>اميرمحمد اشتری</td>\n",
       "      <td>اشتری</td>\n",
       "      <td>اميرمحمد</td>\n",
       "    </tr>\n",
       "    <tr>\n",
       "      <th>...</th>\n",
       "      <td>...</td>\n",
       "      <td>...</td>\n",
       "      <td>...</td>\n",
       "    </tr>\n",
       "    <tr>\n",
       "      <th>95</th>\n",
       "      <td>محمدجواد نعمتی</td>\n",
       "      <td>نعمتی</td>\n",
       "      <td>محمدجواد</td>\n",
       "    </tr>\n",
       "    <tr>\n",
       "      <th>96</th>\n",
       "      <td>Christopher Moore</td>\n",
       "      <td>Moore</td>\n",
       "      <td>Christopher</td>\n",
       "    </tr>\n",
       "    <tr>\n",
       "      <th>97</th>\n",
       "      <td>Kristina Higgins</td>\n",
       "      <td>Higgins</td>\n",
       "      <td>Kristina</td>\n",
       "    </tr>\n",
       "    <tr>\n",
       "      <th>98</th>\n",
       "      <td>سرکار خانم نيايش سماوات</td>\n",
       "      <td>سماوات</td>\n",
       "      <td>سرکار</td>\n",
       "    </tr>\n",
       "    <tr>\n",
       "      <th>99</th>\n",
       "      <td>Heather Roberts</td>\n",
       "      <td>Roberts</td>\n",
       "      <td>Heather</td>\n",
       "    </tr>\n",
       "  </tbody>\n",
       "</table>\n",
       "<p>100 rows × 3 columns</p>\n",
       "</div>"
      ],
      "text/plain": [
       "                       name last_name   first_name\n",
       "0               زينب تحسینی    تحسینی         زينب\n",
       "1             Robert Palmer    Palmer       Robert\n",
       "2    جناب آقای آرمین تنزیلی    تنزیلی         جناب\n",
       "3       Christopher Jenkins   Jenkins  Christopher\n",
       "4            اميرمحمد اشتری     اشتری     اميرمحمد\n",
       "..                      ...       ...          ...\n",
       "95           محمدجواد نعمتی     نعمتی     محمدجواد\n",
       "96        Christopher Moore     Moore  Christopher\n",
       "97         Kristina Higgins   Higgins     Kristina\n",
       "98  سرکار خانم نيايش سماوات    سماوات        سرکار\n",
       "99          Heather Roberts   Roberts      Heather\n",
       "\n",
       "[100 rows x 3 columns]"
      ]
     },
     "execution_count": 127,
     "metadata": {},
     "output_type": "execute_result"
    }
   ],
   "source": [
    "df"
   ]
  },
  {
   "cell_type": "code",
   "execution_count": 142,
   "id": "75a18c8e-d427-4bec-a1cd-7b5a78811418",
   "metadata": {},
   "outputs": [],
   "source": [
    "nd.search('beheotijgeotijzad')['first_name']"
   ]
  },
  {
   "cell_type": "code",
   "execution_count": null,
   "id": "b4439f42-0e5f-475f-9b6b-677b2a7aa086",
   "metadata": {},
   "outputs": [],
   "source": [
    "def name_to_gender(first_name):\n",
    "    info = nd.search(first_name)['first_name']\n",
    "    if info is no"
   ]
  }
 ],
 "metadata": {
  "kernelspec": {
   "display_name": "Python 3 (ipykernel)",
   "language": "python",
   "name": "python3"
  },
  "language_info": {
   "codemirror_mode": {
    "name": "ipython",
    "version": 3
   },
   "file_extension": ".py",
   "mimetype": "text/x-python",
   "name": "python",
   "nbconvert_exporter": "python",
   "pygments_lexer": "ipython3",
   "version": "3.10.8"
  }
 },
 "nbformat": 4,
 "nbformat_minor": 5
}
